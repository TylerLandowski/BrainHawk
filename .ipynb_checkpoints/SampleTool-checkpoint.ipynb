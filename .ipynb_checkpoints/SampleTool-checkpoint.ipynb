{
 "cells": [
  {
   "cell_type": "code",
   "execution_count": 2,
   "metadata": {},
   "outputs": [
    {
     "name": "stdout",
     "output_type": "stream",
     "text": [
      "Ready.\n"
     ]
    },
    {
     "name": "stderr",
     "output_type": "stream",
     "text": [
      "Exception in thread Thread-7:\n",
      "Traceback (most recent call last):\n",
      "  File \"C:\\ProgramData\\Anaconda3\\lib\\threading.py\", line 917, in _bootstrap_inner\n",
      "    self.run()\n",
      "  File \"C:\\ProgramData\\Anaconda3\\lib\\threading.py\", line 865, in run\n",
      "    self._target(*self._args, **self._kwargs)\n",
      "  File \"C:\\Code\\BrainHawk\\BHServer.py\", line 207, in run\n",
      "    self.socket.bind((self.ip, self.port))\n",
      "OSError: [WinError 10048] Only one usage of each socket address (protocol/network address/port) is normally permitted\n",
      "\n"
     ]
    }
   ],
   "source": [
    "from BHServer import BHServer\n",
    "\n",
    "# Start the TCP server\n",
    "server = BHServer(\n",
    "\t# Server Settings\n",
    "\tip = \"127.0.0.1\",\n",
    "\tport = 1337,\n",
    "\t# Data Settings\n",
    "\tuse_grayscale = True,  # Store screenshots in grayscale\n",
    "\tsystem = \"N64\",  # Initialize server.controls to standard N64 controls\n",
    "\t# Client Settings\n",
    "\tupdate_interval = 5,  # Update to server every 5 frames\n",
    "\tframeskip = 1,\n",
    "\tspeed = 6399,  # Emulate at 6399% original game speed (max)\n",
    "\tsound = False,  # Turn off sound\n",
    "\trom = \"ROM/MarioKart64.n64\",  # Add a game ROM file\n",
    "\tsaves = {\"Save/MarioKart64.State\": 1}  # Add a save state\n",
    ")\n",
    "server.start()\n",
    "\n",
    "# first_iteration = True TODO\n",
    "\n",
    "def update(self):\n",
    "\tif self.client_started():\n",
    "\t\tprint(self.actions)\n",
    "\t\tprint(self.screenshots[self.actions - 1].shape)\n",
    "\n",
    "\tactions = self.actions  # Grab number of times update() has been called\n",
    "\tss = self.screenshots[actions - 1]  # Grab the last screenshot (numpy.ndarray)\n",
    "\n",
    "\tself.controls[\"P1 A\"] = True         # Press the A button on Player 1's controller\n",
    "\tx_type = self.data[\"x\"][0]           # Get type of variable x: \"Int\". Set by client\n",
    "\tx = self.data[\"x\"][1]                # Get value of variable x: 512. Set by client\n",
    "\n",
    "\tif actions == 20:\n",
    "\t\tself.save_screenshots(0, actions - 1, \"my_screenshot.png\")\n",
    "\telif actions == 40:\n",
    "\t\tself.new_episode()      # Reset the emulator, actions = 0, ++episodes\n",
    "\t\tif self.episodes == 3:  # Stop client after 3 episodes\n",
    "\t\t\tself.exit_client()\n",
    "\n",
    "\n",
    "# Replace the server's update function with ours\n",
    "BHServer.update = update\n",
    "print(\"Ready.\")\n",
    "\n",
    "# Optional loop that can be implemented. Runs in main thread rather than server\n",
    "# while True:\n",
    "#     pass\n"
   ]
  },
  {
   "cell_type": "code",
   "execution_count": null,
   "metadata": {},
   "outputs": [],
   "source": []
  },
  {
   "cell_type": "code",
   "execution_count": null,
   "metadata": {},
   "outputs": [],
   "source": []
  }
 ],
 "metadata": {
  "kernelspec": {
   "display_name": "Python 3",
   "language": "python",
   "name": "python3"
  },
  "language_info": {
   "codemirror_mode": {
    "name": "ipython",
    "version": 3
   },
   "file_extension": ".py",
   "mimetype": "text/x-python",
   "name": "python",
   "nbconvert_exporter": "python",
   "pygments_lexer": "ipython3",
   "version": "3.7.1"
  }
 },
 "nbformat": 4,
 "nbformat_minor": 2
}
